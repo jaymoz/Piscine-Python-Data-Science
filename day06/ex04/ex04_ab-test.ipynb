{
 "cells": [
  {
   "cell_type": "markdown",
   "metadata": {},
   "source": [
    "## Importing required libraries"
   ]
  },
  {
   "cell_type": "code",
   "execution_count": 1,
   "metadata": {},
   "outputs": [],
   "source": [
    "import pandas as pd\n",
    "import sqlite3"
   ]
  },
  {
   "cell_type": "markdown",
   "metadata": {},
   "source": [
    "## using only one query for each of the groups, create two dataframes: test_results\n",
    "## and control_results with the columns time and avg_diff and only two rows\n"
   ]
  }
 ],
 "metadata": {
  "interpreter": {
   "hash": "bb1211db1cb09389faa209c4b058dce863ff37aa1f557667a3f481767b10e6b4"
  },
  "kernelspec": {
   "display_name": "Python 3.9.0 ('lross': venv)",
   "language": "python",
   "name": "python3"
  },
  "language_info": {
   "codemirror_mode": {
    "name": "ipython",
    "version": 3
   },
   "file_extension": ".py",
   "mimetype": "text/x-python",
   "name": "python",
   "nbconvert_exporter": "python",
   "pygments_lexer": "ipython3",
   "version": "3.9.0"
  },
  "orig_nbformat": 4
 },
 "nbformat": 4,
 "nbformat_minor": 2
}
